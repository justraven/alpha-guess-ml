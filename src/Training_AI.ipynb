{
  "nbformat": 4,
  "nbformat_minor": 0,
  "metadata": {
    "colab": {
      "name": "Training_AI.ipynb",
      "provenance": [],
      "collapsed_sections": []
    },
    "kernelspec": {
      "name": "python3",
      "display_name": "Python 3"
    },
    "language_info": {
      "name": "python"
    }
  },
  "cells": [
    {
      "cell_type": "markdown",
      "source": [
        "Membaca Dataset"
      ],
      "metadata": {
        "id": "FFBZ2uogeWKe"
      }
    },
    {
      "cell_type": "code",
      "execution_count": null,
      "metadata": {
        "colab": {
          "base_uri": "https://localhost:8080/",
          "height": 206
        },
        "id": "_Xlq-C-icwM2",
        "outputId": "e90db0e1-f7cf-404d-c0cf-4a2542b1e4c0"
      },
      "outputs": [
        {
          "output_type": "execute_result",
          "data": {
            "text/plain": [
              "  Alpha   X_Acc   Y_Acc   Z_Acc   X_Gyro   Y_Gyro   Z_Gyro\n",
              "0     A   -0.34    0.08    1.18    39.43   -46.63     4.64\n",
              "1     A   -0.29    0.15    1.28    22.34     2.14    -6.71\n",
              "2     A   -0.13    0.30    1.17    23.62    21.61    -9.95\n",
              "3     A   -0.17    0.33    1.37    65.37    25.94   -22.22\n",
              "4     A   -0.11    0.17    1.29    71.41    70.56   -26.92"
            ],
            "text/html": [
              "\n",
              "  <div id=\"df-7355adff-3715-4493-b343-bee6c2f49c83\">\n",
              "    <div class=\"colab-df-container\">\n",
              "      <div>\n",
              "<style scoped>\n",
              "    .dataframe tbody tr th:only-of-type {\n",
              "        vertical-align: middle;\n",
              "    }\n",
              "\n",
              "    .dataframe tbody tr th {\n",
              "        vertical-align: top;\n",
              "    }\n",
              "\n",
              "    .dataframe thead th {\n",
              "        text-align: right;\n",
              "    }\n",
              "</style>\n",
              "<table border=\"1\" class=\"dataframe\">\n",
              "  <thead>\n",
              "    <tr style=\"text-align: right;\">\n",
              "      <th></th>\n",
              "      <th>Alpha</th>\n",
              "      <th>X_Acc</th>\n",
              "      <th>Y_Acc</th>\n",
              "      <th>Z_Acc</th>\n",
              "      <th>X_Gyro</th>\n",
              "      <th>Y_Gyro</th>\n",
              "      <th>Z_Gyro</th>\n",
              "    </tr>\n",
              "  </thead>\n",
              "  <tbody>\n",
              "    <tr>\n",
              "      <th>0</th>\n",
              "      <td>A</td>\n",
              "      <td>-0.34</td>\n",
              "      <td>0.08</td>\n",
              "      <td>1.18</td>\n",
              "      <td>39.43</td>\n",
              "      <td>-46.63</td>\n",
              "      <td>4.64</td>\n",
              "    </tr>\n",
              "    <tr>\n",
              "      <th>1</th>\n",
              "      <td>A</td>\n",
              "      <td>-0.29</td>\n",
              "      <td>0.15</td>\n",
              "      <td>1.28</td>\n",
              "      <td>22.34</td>\n",
              "      <td>2.14</td>\n",
              "      <td>-6.71</td>\n",
              "    </tr>\n",
              "    <tr>\n",
              "      <th>2</th>\n",
              "      <td>A</td>\n",
              "      <td>-0.13</td>\n",
              "      <td>0.30</td>\n",
              "      <td>1.17</td>\n",
              "      <td>23.62</td>\n",
              "      <td>21.61</td>\n",
              "      <td>-9.95</td>\n",
              "    </tr>\n",
              "    <tr>\n",
              "      <th>3</th>\n",
              "      <td>A</td>\n",
              "      <td>-0.17</td>\n",
              "      <td>0.33</td>\n",
              "      <td>1.37</td>\n",
              "      <td>65.37</td>\n",
              "      <td>25.94</td>\n",
              "      <td>-22.22</td>\n",
              "    </tr>\n",
              "    <tr>\n",
              "      <th>4</th>\n",
              "      <td>A</td>\n",
              "      <td>-0.11</td>\n",
              "      <td>0.17</td>\n",
              "      <td>1.29</td>\n",
              "      <td>71.41</td>\n",
              "      <td>70.56</td>\n",
              "      <td>-26.92</td>\n",
              "    </tr>\n",
              "  </tbody>\n",
              "</table>\n",
              "</div>\n",
              "      <button class=\"colab-df-convert\" onclick=\"convertToInteractive('df-7355adff-3715-4493-b343-bee6c2f49c83')\"\n",
              "              title=\"Convert this dataframe to an interactive table.\"\n",
              "              style=\"display:none;\">\n",
              "        \n",
              "  <svg xmlns=\"http://www.w3.org/2000/svg\" height=\"24px\"viewBox=\"0 0 24 24\"\n",
              "       width=\"24px\">\n",
              "    <path d=\"M0 0h24v24H0V0z\" fill=\"none\"/>\n",
              "    <path d=\"M18.56 5.44l.94 2.06.94-2.06 2.06-.94-2.06-.94-.94-2.06-.94 2.06-2.06.94zm-11 1L8.5 8.5l.94-2.06 2.06-.94-2.06-.94L8.5 2.5l-.94 2.06-2.06.94zm10 10l.94 2.06.94-2.06 2.06-.94-2.06-.94-.94-2.06-.94 2.06-2.06.94z\"/><path d=\"M17.41 7.96l-1.37-1.37c-.4-.4-.92-.59-1.43-.59-.52 0-1.04.2-1.43.59L10.3 9.45l-7.72 7.72c-.78.78-.78 2.05 0 2.83L4 21.41c.39.39.9.59 1.41.59.51 0 1.02-.2 1.41-.59l7.78-7.78 2.81-2.81c.8-.78.8-2.07 0-2.86zM5.41 20L4 18.59l7.72-7.72 1.47 1.35L5.41 20z\"/>\n",
              "  </svg>\n",
              "      </button>\n",
              "      \n",
              "  <style>\n",
              "    .colab-df-container {\n",
              "      display:flex;\n",
              "      flex-wrap:wrap;\n",
              "      gap: 12px;\n",
              "    }\n",
              "\n",
              "    .colab-df-convert {\n",
              "      background-color: #E8F0FE;\n",
              "      border: none;\n",
              "      border-radius: 50%;\n",
              "      cursor: pointer;\n",
              "      display: none;\n",
              "      fill: #1967D2;\n",
              "      height: 32px;\n",
              "      padding: 0 0 0 0;\n",
              "      width: 32px;\n",
              "    }\n",
              "\n",
              "    .colab-df-convert:hover {\n",
              "      background-color: #E2EBFA;\n",
              "      box-shadow: 0px 1px 2px rgba(60, 64, 67, 0.3), 0px 1px 3px 1px rgba(60, 64, 67, 0.15);\n",
              "      fill: #174EA6;\n",
              "    }\n",
              "\n",
              "    [theme=dark] .colab-df-convert {\n",
              "      background-color: #3B4455;\n",
              "      fill: #D2E3FC;\n",
              "    }\n",
              "\n",
              "    [theme=dark] .colab-df-convert:hover {\n",
              "      background-color: #434B5C;\n",
              "      box-shadow: 0px 1px 3px 1px rgba(0, 0, 0, 0.15);\n",
              "      filter: drop-shadow(0px 1px 2px rgba(0, 0, 0, 0.3));\n",
              "      fill: #FFFFFF;\n",
              "    }\n",
              "  </style>\n",
              "\n",
              "      <script>\n",
              "        const buttonEl =\n",
              "          document.querySelector('#df-7355adff-3715-4493-b343-bee6c2f49c83 button.colab-df-convert');\n",
              "        buttonEl.style.display =\n",
              "          google.colab.kernel.accessAllowed ? 'block' : 'none';\n",
              "\n",
              "        async function convertToInteractive(key) {\n",
              "          const element = document.querySelector('#df-7355adff-3715-4493-b343-bee6c2f49c83');\n",
              "          const dataTable =\n",
              "            await google.colab.kernel.invokeFunction('convertToInteractive',\n",
              "                                                     [key], {});\n",
              "          if (!dataTable) return;\n",
              "\n",
              "          const docLinkHtml = 'Like what you see? Visit the ' +\n",
              "            '<a target=\"_blank\" href=https://colab.research.google.com/notebooks/data_table.ipynb>data table notebook</a>'\n",
              "            + ' to learn more about interactive tables.';\n",
              "          element.innerHTML = '';\n",
              "          dataTable['output_type'] = 'display_data';\n",
              "          await google.colab.output.renderOutput(dataTable, element);\n",
              "          const docLink = document.createElement('div');\n",
              "          docLink.innerHTML = docLinkHtml;\n",
              "          element.appendChild(docLink);\n",
              "        }\n",
              "      </script>\n",
              "    </div>\n",
              "  </div>\n",
              "  "
            ]
          },
          "metadata": {},
          "execution_count": 35
        }
      ],
      "source": [
        "import pandas as pd\n",
        "df = pd.read_csv('https://raw.githubusercontent.com/justraven/alpha-guess-ml/main/data/dataset/02_Merged_alpha.csv')\n",
        "df.head()"
      ]
    },
    {
      "cell_type": "markdown",
      "source": [
        "Melihat statistical details"
      ],
      "metadata": {
        "id": "2ajDLWl1dtb4"
      }
    },
    {
      "cell_type": "code",
      "source": [
        "df.describe()"
      ],
      "metadata": {
        "colab": {
          "base_uri": "https://localhost:8080/",
          "height": 300
        },
        "id": "3Y1hwGOjdx3I",
        "outputId": "b7cfb469-54cb-4405-8e84-6db4777eda38"
      },
      "execution_count": null,
      "outputs": [
        {
          "output_type": "execute_result",
          "data": {
            "text/plain": [
              "             X_Acc        Y_Acc        Z_Acc       X_Gyro      Y_Gyro  \\\n",
              "count  4802.000000  4802.000000  4802.000000  4802.000000  4802.00000   \n",
              "mean      0.115173     0.044175     0.928909     1.765883    -3.80642   \n",
              "std       0.270610     0.318929     0.419067    25.733202    91.61953   \n",
              "min      -0.840000    -1.060000    -0.530000  -170.100000  -421.26000   \n",
              "25%      -0.060000    -0.130000     0.670000   -11.645000   -47.21000   \n",
              "50%       0.150000     0.050000     0.920000     3.300000    -0.64000   \n",
              "75%       0.310000     0.220000     1.160000    17.030000    53.16000   \n",
              "max       0.810000     1.950000     2.670000   186.460000   301.21000   \n",
              "\n",
              "            Z_Gyro  \n",
              "count  4802.000000  \n",
              "mean     -2.704885  \n",
              "std      52.521280  \n",
              "min    -226.140000  \n",
              "25%     -32.455000  \n",
              "50%      -4.270000  \n",
              "75%      22.205000  \n",
              "max     273.620000  "
            ],
            "text/html": [
              "\n",
              "  <div id=\"df-72ca56e1-c5c7-475a-b51c-f31f0668a0d7\">\n",
              "    <div class=\"colab-df-container\">\n",
              "      <div>\n",
              "<style scoped>\n",
              "    .dataframe tbody tr th:only-of-type {\n",
              "        vertical-align: middle;\n",
              "    }\n",
              "\n",
              "    .dataframe tbody tr th {\n",
              "        vertical-align: top;\n",
              "    }\n",
              "\n",
              "    .dataframe thead th {\n",
              "        text-align: right;\n",
              "    }\n",
              "</style>\n",
              "<table border=\"1\" class=\"dataframe\">\n",
              "  <thead>\n",
              "    <tr style=\"text-align: right;\">\n",
              "      <th></th>\n",
              "      <th>X_Acc</th>\n",
              "      <th>Y_Acc</th>\n",
              "      <th>Z_Acc</th>\n",
              "      <th>X_Gyro</th>\n",
              "      <th>Y_Gyro</th>\n",
              "      <th>Z_Gyro</th>\n",
              "    </tr>\n",
              "  </thead>\n",
              "  <tbody>\n",
              "    <tr>\n",
              "      <th>count</th>\n",
              "      <td>4802.000000</td>\n",
              "      <td>4802.000000</td>\n",
              "      <td>4802.000000</td>\n",
              "      <td>4802.000000</td>\n",
              "      <td>4802.00000</td>\n",
              "      <td>4802.000000</td>\n",
              "    </tr>\n",
              "    <tr>\n",
              "      <th>mean</th>\n",
              "      <td>0.115173</td>\n",
              "      <td>0.044175</td>\n",
              "      <td>0.928909</td>\n",
              "      <td>1.765883</td>\n",
              "      <td>-3.80642</td>\n",
              "      <td>-2.704885</td>\n",
              "    </tr>\n",
              "    <tr>\n",
              "      <th>std</th>\n",
              "      <td>0.270610</td>\n",
              "      <td>0.318929</td>\n",
              "      <td>0.419067</td>\n",
              "      <td>25.733202</td>\n",
              "      <td>91.61953</td>\n",
              "      <td>52.521280</td>\n",
              "    </tr>\n",
              "    <tr>\n",
              "      <th>min</th>\n",
              "      <td>-0.840000</td>\n",
              "      <td>-1.060000</td>\n",
              "      <td>-0.530000</td>\n",
              "      <td>-170.100000</td>\n",
              "      <td>-421.26000</td>\n",
              "      <td>-226.140000</td>\n",
              "    </tr>\n",
              "    <tr>\n",
              "      <th>25%</th>\n",
              "      <td>-0.060000</td>\n",
              "      <td>-0.130000</td>\n",
              "      <td>0.670000</td>\n",
              "      <td>-11.645000</td>\n",
              "      <td>-47.21000</td>\n",
              "      <td>-32.455000</td>\n",
              "    </tr>\n",
              "    <tr>\n",
              "      <th>50%</th>\n",
              "      <td>0.150000</td>\n",
              "      <td>0.050000</td>\n",
              "      <td>0.920000</td>\n",
              "      <td>3.300000</td>\n",
              "      <td>-0.64000</td>\n",
              "      <td>-4.270000</td>\n",
              "    </tr>\n",
              "    <tr>\n",
              "      <th>75%</th>\n",
              "      <td>0.310000</td>\n",
              "      <td>0.220000</td>\n",
              "      <td>1.160000</td>\n",
              "      <td>17.030000</td>\n",
              "      <td>53.16000</td>\n",
              "      <td>22.205000</td>\n",
              "    </tr>\n",
              "    <tr>\n",
              "      <th>max</th>\n",
              "      <td>0.810000</td>\n",
              "      <td>1.950000</td>\n",
              "      <td>2.670000</td>\n",
              "      <td>186.460000</td>\n",
              "      <td>301.21000</td>\n",
              "      <td>273.620000</td>\n",
              "    </tr>\n",
              "  </tbody>\n",
              "</table>\n",
              "</div>\n",
              "      <button class=\"colab-df-convert\" onclick=\"convertToInteractive('df-72ca56e1-c5c7-475a-b51c-f31f0668a0d7')\"\n",
              "              title=\"Convert this dataframe to an interactive table.\"\n",
              "              style=\"display:none;\">\n",
              "        \n",
              "  <svg xmlns=\"http://www.w3.org/2000/svg\" height=\"24px\"viewBox=\"0 0 24 24\"\n",
              "       width=\"24px\">\n",
              "    <path d=\"M0 0h24v24H0V0z\" fill=\"none\"/>\n",
              "    <path d=\"M18.56 5.44l.94 2.06.94-2.06 2.06-.94-2.06-.94-.94-2.06-.94 2.06-2.06.94zm-11 1L8.5 8.5l.94-2.06 2.06-.94-2.06-.94L8.5 2.5l-.94 2.06-2.06.94zm10 10l.94 2.06.94-2.06 2.06-.94-2.06-.94-.94-2.06-.94 2.06-2.06.94z\"/><path d=\"M17.41 7.96l-1.37-1.37c-.4-.4-.92-.59-1.43-.59-.52 0-1.04.2-1.43.59L10.3 9.45l-7.72 7.72c-.78.78-.78 2.05 0 2.83L4 21.41c.39.39.9.59 1.41.59.51 0 1.02-.2 1.41-.59l7.78-7.78 2.81-2.81c.8-.78.8-2.07 0-2.86zM5.41 20L4 18.59l7.72-7.72 1.47 1.35L5.41 20z\"/>\n",
              "  </svg>\n",
              "      </button>\n",
              "      \n",
              "  <style>\n",
              "    .colab-df-container {\n",
              "      display:flex;\n",
              "      flex-wrap:wrap;\n",
              "      gap: 12px;\n",
              "    }\n",
              "\n",
              "    .colab-df-convert {\n",
              "      background-color: #E8F0FE;\n",
              "      border: none;\n",
              "      border-radius: 50%;\n",
              "      cursor: pointer;\n",
              "      display: none;\n",
              "      fill: #1967D2;\n",
              "      height: 32px;\n",
              "      padding: 0 0 0 0;\n",
              "      width: 32px;\n",
              "    }\n",
              "\n",
              "    .colab-df-convert:hover {\n",
              "      background-color: #E2EBFA;\n",
              "      box-shadow: 0px 1px 2px rgba(60, 64, 67, 0.3), 0px 1px 3px 1px rgba(60, 64, 67, 0.15);\n",
              "      fill: #174EA6;\n",
              "    }\n",
              "\n",
              "    [theme=dark] .colab-df-convert {\n",
              "      background-color: #3B4455;\n",
              "      fill: #D2E3FC;\n",
              "    }\n",
              "\n",
              "    [theme=dark] .colab-df-convert:hover {\n",
              "      background-color: #434B5C;\n",
              "      box-shadow: 0px 1px 3px 1px rgba(0, 0, 0, 0.15);\n",
              "      filter: drop-shadow(0px 1px 2px rgba(0, 0, 0, 0.3));\n",
              "      fill: #FFFFFF;\n",
              "    }\n",
              "  </style>\n",
              "\n",
              "      <script>\n",
              "        const buttonEl =\n",
              "          document.querySelector('#df-72ca56e1-c5c7-475a-b51c-f31f0668a0d7 button.colab-df-convert');\n",
              "        buttonEl.style.display =\n",
              "          google.colab.kernel.accessAllowed ? 'block' : 'none';\n",
              "\n",
              "        async function convertToInteractive(key) {\n",
              "          const element = document.querySelector('#df-72ca56e1-c5c7-475a-b51c-f31f0668a0d7');\n",
              "          const dataTable =\n",
              "            await google.colab.kernel.invokeFunction('convertToInteractive',\n",
              "                                                     [key], {});\n",
              "          if (!dataTable) return;\n",
              "\n",
              "          const docLinkHtml = 'Like what you see? Visit the ' +\n",
              "            '<a target=\"_blank\" href=https://colab.research.google.com/notebooks/data_table.ipynb>data table notebook</a>'\n",
              "            + ' to learn more about interactive tables.';\n",
              "          element.innerHTML = '';\n",
              "          dataTable['output_type'] = 'display_data';\n",
              "          await google.colab.output.renderOutput(dataTable, element);\n",
              "          const docLink = document.createElement('div');\n",
              "          docLink.innerHTML = docLinkHtml;\n",
              "          element.appendChild(docLink);\n",
              "        }\n",
              "      </script>\n",
              "    </div>\n",
              "  </div>\n",
              "  "
            ]
          },
          "metadata": {},
          "execution_count": 36
        }
      ]
    },
    {
      "cell_type": "markdown",
      "source": [
        "check presentase target class"
      ],
      "metadata": {
        "id": "EqL318jMesoY"
      }
    },
    {
      "cell_type": "code",
      "source": [
        "import matplotlib.pyplot as plt\n",
        "\n",
        "data = df['Alpha'].value_counts()\n",
        "data.plot(kind = 'pie', autopct = '%.2f%%')\n",
        "plt.show()"
      ],
      "metadata": {
        "colab": {
          "base_uri": "https://localhost:8080/",
          "height": 248
        },
        "id": "b5J-VemCevm5",
        "outputId": "8c5f7c9d-6fb6-4dee-85bb-5fcefe2b09c5"
      },
      "execution_count": null,
      "outputs": [
        {
          "output_type": "display_data",
          "data": {
            "text/plain": [
              "<Figure size 432x288 with 1 Axes>"
            ],
            "image/png": "[encoded data removed]"
          },
          "metadata": {}
        }
      ]
    },
    {
      "cell_type": "markdown",
      "source": [
        "Check Histogram for continous columns"
      ],
      "metadata": {
        "id": "KqQ2LpOiiG9F"
      }
    },
    {
      "cell_type": "code",
      "source": [
        "df.hist(figsize=(10,10))\n",
        "plt.show()"
      ],
      "metadata": {
        "colab": {
          "base_uri": "https://localhost:8080/",
          "height": 607
        },
        "id": "6DQT7RrJiO_v",
        "outputId": "b9ca8984-7e71-4451-f476-2fc586802d01"
      },
      "execution_count": null,
      "outputs": [
        {
          "output_type": "display_data",
          "data": {
            "text/plain": [
              "<Figure size 720x720 with 6 Axes>"
            ],
            "image/png": "[encoded data removed]"
          },
          "metadata": {
            "needs_background": "light"
          }
        }
      ]
    },
    {
      "cell_type": "markdown",
      "source": [
        "Check correlation coeficient"
      ],
      "metadata": {
        "id": "57RXAgs3ikDa"
      }
    },
    {
      "cell_type": "code",
      "source": [
        "df.corr()"
      ],
      "metadata": {
        "colab": {
          "base_uri": "https://localhost:8080/",
          "height": 238
        },
        "id": "A-QDqtm6iqHT",
        "outputId": "5efbf88e-deca-4f5f-e677-e9ad21eb185d"
      },
      "execution_count": null,
      "outputs": [
        {
          "output_type": "execute_result",
          "data": {
            "text/plain": [
              "            X_Acc     Y_Acc     Z_Acc    X_Gyro    Y_Gyro    Z_Gyro\n",
              " X_Acc   1.000000 -0.355276  0.615018 -0.068302 -0.113086 -0.093447\n",
              " Y_Acc  -0.355276  1.000000 -0.051006 -0.050153 -0.105429  0.088548\n",
              " Z_Acc   0.615018 -0.051006  1.000000  0.018855 -0.017849 -0.113758\n",
              " X_Gyro -0.068302 -0.050153  0.018855  1.000000  0.437270  0.243741\n",
              " Y_Gyro -0.113086 -0.105429 -0.017849  0.437270  1.000000 -0.171796\n",
              " Z_Gyro -0.093447  0.088548 -0.113758  0.243741 -0.171796  1.000000"
            ],
            "text/html": [
              "\n",
              "  <div id=\"df-3dfd678d-9803-4ff9-8ead-422e1b1a1df2\">\n",
              "    <div class=\"colab-df-container\">\n",
              "      <div>\n",
              "<style scoped>\n",
              "    .dataframe tbody tr th:only-of-type {\n",
              "        vertical-align: middle;\n",
              "    }\n",
              "\n",
              "    .dataframe tbody tr th {\n",
              "        vertical-align: top;\n",
              "    }\n",
              "\n",
              "    .dataframe thead th {\n",
              "        text-align: right;\n",
              "    }\n",
              "</style>\n",
              "<table border=\"1\" class=\"dataframe\">\n",
              "  <thead>\n",
              "    <tr style=\"text-align: right;\">\n",
              "      <th></th>\n",
              "      <th>X_Acc</th>\n",
              "      <th>Y_Acc</th>\n",
              "      <th>Z_Acc</th>\n",
              "      <th>X_Gyro</th>\n",
              "      <th>Y_Gyro</th>\n",
              "      <th>Z_Gyro</th>\n",
              "    </tr>\n",
              "  </thead>\n",
              "  <tbody>\n",
              "    <tr>\n",
              "      <th>X_Acc</th>\n",
              "      <td>1.000000</td>\n",
              "      <td>-0.355276</td>\n",
              "      <td>0.615018</td>\n",
              "      <td>-0.068302</td>\n",
              "      <td>-0.113086</td>\n",
              "      <td>-0.093447</td>\n",
              "    </tr>\n",
              "    <tr>\n",
              "      <th>Y_Acc</th>\n",
              "      <td>-0.355276</td>\n",
              "      <td>1.000000</td>\n",
              "      <td>-0.051006</td>\n",
              "      <td>-0.050153</td>\n",
              "      <td>-0.105429</td>\n",
              "      <td>0.088548</td>\n",
              "    </tr>\n",
              "    <tr>\n",
              "      <th>Z_Acc</th>\n",
              "      <td>0.615018</td>\n",
              "      <td>-0.051006</td>\n",
              "      <td>1.000000</td>\n",
              "      <td>0.018855</td>\n",
              "      <td>-0.017849</td>\n",
              "      <td>-0.113758</td>\n",
              "    </tr>\n",
              "    <tr>\n",
              "      <th>X_Gyro</th>\n",
              "      <td>-0.068302</td>\n",
              "      <td>-0.050153</td>\n",
              "      <td>0.018855</td>\n",
              "      <td>1.000000</td>\n",
              "      <td>0.437270</td>\n",
              "      <td>0.243741</td>\n",
              "    </tr>\n",
              "    <tr>\n",
              "      <th>Y_Gyro</th>\n",
              "      <td>-0.113086</td>\n",
              "      <td>-0.105429</td>\n",
              "      <td>-0.017849</td>\n",
              "      <td>0.437270</td>\n",
              "      <td>1.000000</td>\n",
              "      <td>-0.171796</td>\n",
              "    </tr>\n",
              "    <tr>\n",
              "      <th>Z_Gyro</th>\n",
              "      <td>-0.093447</td>\n",
              "      <td>0.088548</td>\n",
              "      <td>-0.113758</td>\n",
              "      <td>0.243741</td>\n",
              "      <td>-0.171796</td>\n",
              "      <td>1.000000</td>\n",
              "    </tr>\n",
              "  </tbody>\n",
              "</table>\n",
              "</div>\n",
              "      <button class=\"colab-df-convert\" onclick=\"convertToInteractive('df-3dfd678d-9803-4ff9-8ead-422e1b1a1df2')\"\n",
              "              title=\"Convert this dataframe to an interactive table.\"\n",
              "              style=\"display:none;\">\n",
              "        \n",
              "  <svg xmlns=\"http://www.w3.org/2000/svg\" height=\"24px\"viewBox=\"0 0 24 24\"\n",
              "       width=\"24px\">\n",
              "    <path d=\"M0 0h24v24H0V0z\" fill=\"none\"/>\n",
              "    <path d=\"M18.56 5.44l.94 2.06.94-2.06 2.06-.94-2.06-.94-.94-2.06-.94 2.06-2.06.94zm-11 1L8.5 8.5l.94-2.06 2.06-.94-2.06-.94L8.5 2.5l-.94 2.06-2.06.94zm10 10l.94 2.06.94-2.06 2.06-.94-2.06-.94-.94-2.06-.94 2.06-2.06.94z\"/><path d=\"M17.41 7.96l-1.37-1.37c-.4-.4-.92-.59-1.43-.59-.52 0-1.04.2-1.43.59L10.3 9.45l-7.72 7.72c-.78.78-.78 2.05 0 2.83L4 21.41c.39.39.9.59 1.41.59.51 0 1.02-.2 1.41-.59l7.78-7.78 2.81-2.81c.8-.78.8-2.07 0-2.86zM5.41 20L4 18.59l7.72-7.72 1.47 1.35L5.41 20z\"/>\n",
              "  </svg>\n",
              "      </button>\n",
              "      \n",
              "  <style>\n",
              "    .colab-df-container {\n",
              "      display:flex;\n",
              "      flex-wrap:wrap;\n",
              "      gap: 12px;\n",
              "    }\n",
              "\n",
              "    .colab-df-convert {\n",
              "      background-color: #E8F0FE;\n",
              "      border: none;\n",
              "      border-radius: 50%;\n",
              "      cursor: pointer;\n",
              "      display: none;\n",
              "      fill: #1967D2;\n",
              "      height: 32px;\n",
              "      padding: 0 0 0 0;\n",
              "      width: 32px;\n",
              "    }\n",
              "\n",
              "    .colab-df-convert:hover {\n",
              "      background-color: #E2EBFA;\n",
              "      box-shadow: 0px 1px 2px rgba(60, 64, 67, 0.3), 0px 1px 3px 1px rgba(60, 64, 67, 0.15);\n",
              "      fill: #174EA6;\n",
              "    }\n",
              "\n",
              "    [theme=dark] .colab-df-convert {\n",
              "      background-color: #3B4455;\n",
              "      fill: #D2E3FC;\n",
              "    }\n",
              "\n",
              "    [theme=dark] .colab-df-convert:hover {\n",
              "      background-color: #434B5C;\n",
              "      box-shadow: 0px 1px 3px 1px rgba(0, 0, 0, 0.15);\n",
              "      filter: drop-shadow(0px 1px 2px rgba(0, 0, 0, 0.3));\n",
              "      fill: #FFFFFF;\n",
              "    }\n",
              "  </style>\n",
              "\n",
              "      <script>\n",
              "        const buttonEl =\n",
              "          document.querySelector('#df-3dfd678d-9803-4ff9-8ead-422e1b1a1df2 button.colab-df-convert');\n",
              "        buttonEl.style.display =\n",
              "          google.colab.kernel.accessAllowed ? 'block' : 'none';\n",
              "\n",
              "        async function convertToInteractive(key) {\n",
              "          const element = document.querySelector('#df-3dfd678d-9803-4ff9-8ead-422e1b1a1df2');\n",
              "          const dataTable =\n",
              "            await google.colab.kernel.invokeFunction('convertToInteractive',\n",
              "                                                     [key], {});\n",
              "          if (!dataTable) return;\n",
              "\n",
              "          const docLinkHtml = 'Like what you see? Visit the ' +\n",
              "            '<a target=\"_blank\" href=https://colab.research.google.com/notebooks/data_table.ipynb>data table notebook</a>'\n",
              "            + ' to learn more about interactive tables.';\n",
              "          element.innerHTML = '';\n",
              "          dataTable['output_type'] = 'display_data';\n",
              "          await google.colab.output.renderOutput(dataTable, element);\n",
              "          const docLink = document.createElement('div');\n",
              "          docLink.innerHTML = docLinkHtml;\n",
              "          element.appendChild(docLink);\n",
              "        }\n",
              "      </script>\n",
              "    </div>\n",
              "  </div>\n",
              "  "
            ]
          },
          "metadata": {},
          "execution_count": 39
        }
      ]
    },
    {
      "cell_type": "markdown",
      "source": [
        "Check missing values"
      ],
      "metadata": {
        "id": "Ce02hsJ-iv3w"
      }
    },
    {
      "cell_type": "code",
      "source": [
        "df.isnull().sum()"
      ],
      "metadata": {
        "colab": {
          "base_uri": "https://localhost:8080/"
        },
        "id": "KLr6SvVfiy8D",
        "outputId": "1a7110cf-2d54-4a9f-c715-d9d8c9a43397"
      },
      "execution_count": null,
      "outputs": [
        {
          "output_type": "execute_result",
          "data": {
            "text/plain": [
              "Alpha      0\n",
              " X_Acc     0\n",
              " Y_Acc     0\n",
              " Z_Acc     0\n",
              " X_Gyro    0\n",
              " Y_Gyro    0\n",
              " Z_Gyro    0\n",
              "dtype: int64"
            ]
          },
          "metadata": {},
          "execution_count": 40
        }
      ]
    },
    {
      "cell_type": "markdown",
      "source": [
        "Data Preprocessing"
      ],
      "metadata": {
        "id": "APgpDDhPi88A"
      }
    },
    {
      "cell_type": "code",
      "source": [
        "from sklearn.model_selection import train_test_split\n",
        "from sklearn.preprocessing import LabelEncoder\n",
        "from sklearn.metrics import accuracy_score\n",
        "from sklearn.metrics import precision_score\n",
        "from sklearn.metrics import recall_score\n",
        "from sklearn.metrics import confusion_matrix\n",
        "from sklearn.metrics import plot_confusion_matrix\n",
        "from imblearn.metrics import sensitivity_specificity_support\n",
        "from sklearn.preprocessing import StandardScaler\n",
        "from sklearn.linear_model import LogisticRegression\n",
        "\n",
        "\n",
        "df_X = df.drop(['Alpha'],axis = 1)\n",
        "df_Y = df[['Alpha']]\n",
        "\n",
        "le = LabelEncoder()\n",
        "df_Y = le.fit_transform(df_Y['Alpha'])\n",
        "\n",
        "X = df_X.astype(float).values\n",
        "Y = df_Y.astype(float)\n",
        "\n",
        "X_train, X_test, Y_train, Y_test = train_test_split(X,Y, test_size = 0.3, random_state = 42)\n",
        "\n",
        "scaler = StandardScaler().fit(X_train)\n",
        "X_train = scaler.transform(X_train)\n",
        "X_test = scaler.transform(X_test)\n",
        "\n",
        "print('X = ',X)\n",
        "print()\n",
        "print('Y = ',Y)\n",
        "print()\n",
        "print('X Train = ',X_train)\n",
        "print()\n",
        "print('X test = ' ,X_test)"
      ],
      "metadata": {
        "colab": {
          "base_uri": "https://localhost:8080/"
        },
        "id": "3D0KddQji8Tz",
        "outputId": "d5052ebe-9f91-407c-d4dd-2cdd5f82f2e7"
      },
      "execution_count": null,
      "outputs": [
        {
          "output_type": "stream",
          "name": "stdout",
          "text": [
            "X =  [[ -0.34   0.08   1.18  39.43 -46.63   4.64]\n",
            " [ -0.29   0.15   1.28  22.34   2.14  -6.71]\n",
            " [ -0.13   0.3    1.17  23.62  21.61  -9.95]\n",
            " ...\n",
            " [ -0.25   0.17   0.91  -0.61  -3.97  17.82]\n",
            " [ -0.26   0.25   1.     7.75  -8.79   6.35]\n",
            " [ -0.25   0.14   0.97   6.29  -5.8   -2.93]]\n",
            "\n",
            "Y =  [0. 0. 0. ... 1. 1. 1.]\n",
            "\n",
            "X Train =  [[-1.03077693 -0.382756    0.18133636  0.12653421 -0.06923412 -0.02460452]\n",
            " [-1.32759653  1.01366263 -0.31731566  0.37261921 -1.69060601  0.83412673]\n",
            " [-0.69685488 -0.0103777  -1.50458237  1.0549811   1.02967391 -0.40490783]\n",
            " ...\n",
            " [-1.03077693  0.29993756 -0.412297   -0.2076601  -1.08351849 -0.28107942]\n",
            " [-1.69862103  0.64128433  0.30006303 -0.50614491  0.79543213  0.34406642]\n",
            " [ 0.71303822 -1.93433225 -0.36480633  1.43885818  0.22433147  1.72512841]]\n",
            "\n",
            "X test =  [[-0.84526468 -0.28966142 -1.29087436 -0.02523115 -0.71547099  0.02680303]\n",
            " [ 1.12116517  0.08271688  1.20238573 -1.22615702 -0.12779456 -0.0692578 ]\n",
            " [-0.32583038  0.95159958  0.06260969 -0.47548132 -0.03259295 -0.56851143]\n",
            " ...\n",
            " [-3.33112883  1.04469416 -1.10091169  0.22589976  0.79008862  0.24218941]\n",
            " [-0.62264998 -0.2586299   0.37129903 -1.17647425  0.21429876  0.04969252]\n",
            " [-0.77105978 -1.03441802  0.51377103  1.12834082  1.15344692  0.13337051]]\n"
          ]
        }
      ]
    },
    {
      "cell_type": "markdown",
      "source": [
        "Modelling Logistic Regression"
      ],
      "metadata": {
        "id": "q98gfkJ1qIhV"
      }
    },
    {
      "cell_type": "code",
      "source": [
        "model = LogisticRegression()\n",
        "model.fit(X_train,Y_train)\n",
        "\n",
        "Y_pred = model.predict(X_test)\n",
        "\n",
        "print('Accuracy \\t= ',accuracy_score(Y_test, Y_pred))\n",
        "print('Precision \\t= ',precision_score(Y_test,Y_pred,average = 'macro'))\n",
        "print('Recall \\t\\t= ',recall_score(Y_test,Y_pred,average = 'macro'))\n",
        "\n",
        "print('Confusion Matrix = ',confusion_matrix(Y_test,Y_pred))\n",
        "\n",
        "plot_confusion_matrix(model, X_test, Y_test, cmap = plt.cm.Blues)\n",
        "plt.show()"
      ],
      "metadata": {
        "colab": {
          "base_uri": "https://localhost:8080/",
          "height": 427
        },
        "id": "OLJeaVgPqXxv",
        "outputId": "49e1cdbf-336f-4f1a-fbce-8e9c50e114a7"
      },
      "execution_count": null,
      "outputs": [
        {
          "output_type": "stream",
          "name": "stdout",
          "text": [
            "Accuracy \t=  0.6960444136016655\n",
            "Precision \t=  0.6972518457752256\n",
            "Recall \t\t=  0.6946670830297352\n",
            "Confusion Matrix =  [[553 186]\n",
            " [252 450]]\n"
          ]
        },
        {
          "output_type": "stream",
          "name": "stderr",
          "text": [
            "/usr/local/lib/python3.7/dist-packages/sklearn/utils/deprecation.py:87: FutureWarning: Function plot_confusion_matrix is deprecated; Function `plot_confusion_matrix` is deprecated in 1.0 and will be removed in 1.2. Use one of the class methods: ConfusionMatrixDisplay.from_predictions or ConfusionMatrixDisplay.from_estimator.\n",
            "  warnings.warn(msg, category=FutureWarning)\n"
          ]
        },
        {
          "output_type": "display_data",
          "data": {
            "text/plain": [
              "<Figure size 432x288 with 2 Axes>"
            ],
            "image/png": "[encoded data removed]"
          },
          "metadata": {
            "needs_background": "light"
          }
        }
      ]
    },
    {
      "cell_type": "markdown",
      "source": [
        ""
      ],
      "metadata": {
        "id": "oGV3BAhvrOvQ"
      }
    }
  ]
}